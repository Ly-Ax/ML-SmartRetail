{
 "cells": [
  {
   "attachments": {},
   "cell_type": "markdown",
   "metadata": {},
   "source": [
    "# Data Exploration"
   ]
  },
  {
   "cell_type": "code",
   "execution_count": 2,
   "metadata": {},
   "outputs": [],
   "source": [
    "# import pandas as pd\n",
    "# import numpy as np\n",
    "# import matplotlib.pyplot as plt\n",
    "# import seaborn as sns"
   ]
  },
  {
   "cell_type": "code",
   "execution_count": null,
   "metadata": {},
   "outputs": [],
   "source": [
    "# df = pd.read_csv(\"../data/raw/super_store.csv\")\n",
    "# df"
   ]
  },
  {
   "cell_type": "code",
   "execution_count": null,
   "metadata": {},
   "outputs": [],
   "source": [
    "# df.dtypes"
   ]
  },
  {
   "cell_type": "code",
   "execution_count": null,
   "metadata": {},
   "outputs": [],
   "source": [
    "# df.isna().sum()"
   ]
  },
  {
   "cell_type": "code",
   "execution_count": null,
   "metadata": {},
   "outputs": [],
   "source": [
    "# df.iloc[:,1:].describe(exclude=[\"object\"])"
   ]
  },
  {
   "cell_type": "code",
   "execution_count": null,
   "metadata": {},
   "outputs": [],
   "source": [
    "# # plot object columns ('country' and 'gender')\n",
    "# plt.figure(figsize=(13,7))\n",
    "# obj_cols = df.select_dtypes(\"object\").columns.to_list()\n",
    "# num_plt = 120\n",
    "\n",
    "# for col in obj_cols:\n",
    "#     df_ = df.groupby(col)[col].count().reset_index(name=\"count\")\n",
    "#     num_plt += 1\n",
    "\n",
    "#     plt.subplot(num_plt)\n",
    "#     plt.pie(df_[\"count\"], labels=df_[col], autopct=\"%0.1f %%\")\n",
    "#     plt.legend(title=col)\n",
    "# plt.show()"
   ]
  },
  {
   "cell_type": "code",
   "execution_count": null,
   "metadata": {},
   "outputs": [],
   "source": [
    "# # plot numeric columns (int and float data types)\n",
    "# plt.figure(figsize=(20,13))\n",
    "# num_cols = df._get_numeric_data().columns.to_list()[1:]\n",
    "# float_cols = df.select_dtypes(\"float64\").columns.to_list()\n",
    "# num_plt = 330\n",
    "\n",
    "# for col in num_cols:\n",
    "#     df_ = df.groupby(col)[col].count().reset_index(name=\"count\")\n",
    "#     num_plt += 1\n",
    "\n",
    "#     plt.subplot(num_plt)\n",
    "#     if col in float_cols:\n",
    "#         plt.hist(df_[col], bins=10, label=col)\n",
    "#         plt.legend()\n",
    "#     else:\n",
    "#         plt.bar(df_[col], df_[\"count\"])\n",
    "#         plt.xlabel(col)\n",
    "# plt.show()"
   ]
  },
  {
   "cell_type": "code",
   "execution_count": null,
   "metadata": {},
   "outputs": [],
   "source": [
    "# # relationship between 'products number' and 'customer churn'\n",
    "# plt.figure(figsize=(13,4))\n",
    "# sns.countplot(data=df, x=\"products_number\", hue=\"churn\")"
   ]
  },
  {
   "cell_type": "code",
   "execution_count": null,
   "metadata": {},
   "outputs": [],
   "source": [
    "# # plot the density of customers based on 'age customer'\n",
    "# plt.figure(figsize=(13,4))\n",
    "# sns.kdeplot(data=df, x=\"age\", hue=\"churn\", fill=True)"
   ]
  },
  {
   "cell_type": "code",
   "execution_count": null,
   "metadata": {},
   "outputs": [],
   "source": [
    "# # boxplot from 'gender' group by 'churn' for 'age customer'\n",
    "# plt.figure(figsize=(13,7))\n",
    "# sns.boxplot(data=df, x=\"gender\", y=\"age\", hue=\"churn\")"
   ]
  }
 ],
 "metadata": {
  "kernelspec": {
   "display_name": "venv",
   "language": "python",
   "name": "python3"
  },
  "language_info": {
   "codemirror_mode": {
    "name": "ipython",
    "version": 3
   },
   "file_extension": ".py",
   "mimetype": "text/x-python",
   "name": "python",
   "nbconvert_exporter": "python",
   "pygments_lexer": "ipython3",
   "version": "3.11.1"
  },
  "orig_nbformat": 4,
  "vscode": {
   "interpreter": {
    "hash": "bc9d588cc41055b9b9b216f0af018fd94a4e1c4903af48a4904579eb6a6c7cd2"
   }
  }
 },
 "nbformat": 4,
 "nbformat_minor": 2
}
