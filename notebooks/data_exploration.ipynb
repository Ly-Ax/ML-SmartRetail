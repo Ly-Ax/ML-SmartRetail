{
 "cells": [
  {
   "attachments": {},
   "cell_type": "markdown",
   "metadata": {},
   "source": [
    "# Data Exploration"
   ]
  },
  {
   "cell_type": "code",
   "execution_count": 2,
   "metadata": {},
   "outputs": [],
   "source": [
    "import pandas as pd\n",
    "from ydata_profiling import ProfileReport\n",
    "# import numpy as np\n",
    "# import matplotlib.pyplot as plt\n",
    "# import seaborn as sns"
   ]
  },
  {
   "cell_type": "code",
   "execution_count": 3,
   "metadata": {},
   "outputs": [
    {
     "data": {
      "text/html": [
       "<div>\n",
       "<style scoped>\n",
       "    .dataframe tbody tr th:only-of-type {\n",
       "        vertical-align: middle;\n",
       "    }\n",
       "\n",
       "    .dataframe tbody tr th {\n",
       "        vertical-align: top;\n",
       "    }\n",
       "\n",
       "    .dataframe thead th {\n",
       "        text-align: right;\n",
       "    }\n",
       "</style>\n",
       "<table border=\"1\" class=\"dataframe\">\n",
       "  <thead>\n",
       "    <tr style=\"text-align: right;\">\n",
       "      <th></th>\n",
       "      <th>Row ID</th>\n",
       "      <th>Order ID</th>\n",
       "      <th>Order Date</th>\n",
       "      <th>Ship Date</th>\n",
       "      <th>Number of days</th>\n",
       "      <th>Ship Mode</th>\n",
       "      <th>Customer ID</th>\n",
       "      <th>Customer Name</th>\n",
       "      <th>Segment</th>\n",
       "      <th>City</th>\n",
       "      <th>...</th>\n",
       "      <th>Sales</th>\n",
       "      <th>Quantity</th>\n",
       "      <th>Unit Sales</th>\n",
       "      <th>Discount</th>\n",
       "      <th>Profit</th>\n",
       "      <th>Shipping Cost</th>\n",
       "      <th>Order Priority</th>\n",
       "      <th>Unit shipping cost</th>\n",
       "      <th>Profit_per_unit</th>\n",
       "      <th>unit cost</th>\n",
       "    </tr>\n",
       "  </thead>\n",
       "  <tbody>\n",
       "    <tr>\n",
       "      <th>2423</th>\n",
       "      <td>19140.0</td>\n",
       "      <td>ES-2014-5117456</td>\n",
       "      <td>7/26/2019</td>\n",
       "      <td>7/28/2019</td>\n",
       "      <td>2.0</td>\n",
       "      <td>Second Class</td>\n",
       "      <td>GH-14410</td>\n",
       "      <td>Gary Hansen</td>\n",
       "      <td>Home Office</td>\n",
       "      <td>Montréal</td>\n",
       "      <td>...</td>\n",
       "      <td>45.960</td>\n",
       "      <td>4.0</td>\n",
       "      <td>11.490</td>\n",
       "      <td>0.0</td>\n",
       "      <td>0.360</td>\n",
       "      <td>1.04</td>\n",
       "      <td>Medium</td>\n",
       "      <td>0.26</td>\n",
       "      <td>0.090</td>\n",
       "      <td>11.14</td>\n",
       "    </tr>\n",
       "    <tr>\n",
       "      <th>8987</th>\n",
       "      <td>45146.0</td>\n",
       "      <td>SF-2014-6460</td>\n",
       "      <td>1/17/2019</td>\n",
       "      <td>1/24/2019</td>\n",
       "      <td>7.0</td>\n",
       "      <td>Standard Class</td>\n",
       "      <td>LS-6975</td>\n",
       "      <td>Lindsay Shagiari</td>\n",
       "      <td>Home Office</td>\n",
       "      <td>Vancouver</td>\n",
       "      <td>...</td>\n",
       "      <td>22.260</td>\n",
       "      <td>2.0</td>\n",
       "      <td>11.130</td>\n",
       "      <td>0.0</td>\n",
       "      <td>8.220</td>\n",
       "      <td>1.40</td>\n",
       "      <td>Low</td>\n",
       "      <td>0.70</td>\n",
       "      <td>4.110</td>\n",
       "      <td>6.32</td>\n",
       "    </tr>\n",
       "    <tr>\n",
       "      <th>7981</th>\n",
       "      <td>24384.0</td>\n",
       "      <td>ID-2014-42577</td>\n",
       "      <td>4/3/2019</td>\n",
       "      <td>4/7/2019</td>\n",
       "      <td>4.0</td>\n",
       "      <td>Standard Class</td>\n",
       "      <td>EM-13810</td>\n",
       "      <td>Eleni McCrary</td>\n",
       "      <td>Corporate</td>\n",
       "      <td>Gatineau</td>\n",
       "      <td>...</td>\n",
       "      <td>61.884</td>\n",
       "      <td>4.0</td>\n",
       "      <td>15.471</td>\n",
       "      <td>0.1</td>\n",
       "      <td>-6.276</td>\n",
       "      <td>2.51</td>\n",
       "      <td>Medium</td>\n",
       "      <td>0.63</td>\n",
       "      <td>-1.569</td>\n",
       "      <td>16.41</td>\n",
       "    </tr>\n",
       "  </tbody>\n",
       "</table>\n",
       "<p>3 rows × 27 columns</p>\n",
       "</div>"
      ],
      "text/plain": [
       "       Row ID         Order ID Order Date  Ship Date  Number of days  \\\n",
       "2423  19140.0  ES-2014-5117456  7/26/2019  7/28/2019             2.0   \n",
       "8987  45146.0     SF-2014-6460  1/17/2019  1/24/2019             7.0   \n",
       "7981  24384.0    ID-2014-42577   4/3/2019   4/7/2019             4.0   \n",
       "\n",
       "           Ship Mode Customer ID     Customer Name      Segment       City  \\\n",
       "2423    Second Class    GH-14410       Gary Hansen  Home Office   Montréal   \n",
       "8987  Standard Class     LS-6975  Lindsay Shagiari  Home Office  Vancouver   \n",
       "7981  Standard Class    EM-13810     Eleni McCrary    Corporate   Gatineau   \n",
       "\n",
       "      ...   Sales Quantity Unit Sales Discount Profit Shipping Cost  \\\n",
       "2423  ...  45.960      4.0     11.490      0.0  0.360          1.04   \n",
       "8987  ...  22.260      2.0     11.130      0.0  8.220          1.40   \n",
       "7981  ...  61.884      4.0     15.471      0.1 -6.276          2.51   \n",
       "\n",
       "     Order Priority  Unit shipping cost  Profit_per_unit  unit cost  \n",
       "2423         Medium                0.26            0.090      11.14  \n",
       "8987            Low                0.70            4.110       6.32  \n",
       "7981         Medium                0.63           -1.569      16.41  \n",
       "\n",
       "[3 rows x 27 columns]"
      ]
     },
     "execution_count": 3,
     "metadata": {},
     "output_type": "execute_result"
    }
   ],
   "source": [
    "df = pd.read_csv('../data/raw/super_store.csv')\n",
    "df.sample(3)"
   ]
  },
  {
   "cell_type": "code",
   "execution_count": 4,
   "metadata": {},
   "outputs": [
    {
     "name": "stderr",
     "output_type": "stream",
     "text": [
      "Summarize dataset: 100%|██████████| 137/137 [00:36<00:00,  3.79it/s, Completed]                                     \n",
      "Generate report structure: 100%|██████████| 1/1 [00:16<00:00, 16.83s/it]\n",
      "Render HTML: 100%|██████████| 1/1 [00:07<00:00,  7.14s/it]\n",
      "Export report to file: 100%|██████████| 1/1 [00:00<00:00, 20.41it/s]\n"
     ]
    }
   ],
   "source": [
    "rep = ProfileReport(df)\n",
    "rep.to_file(output_file='../html/super_store_eda.html')"
   ]
  },
  {
   "cell_type": "code",
   "execution_count": null,
   "metadata": {},
   "outputs": [],
   "source": [
    "# df.dtypes"
   ]
  },
  {
   "cell_type": "code",
   "execution_count": null,
   "metadata": {},
   "outputs": [],
   "source": [
    "# df.isna().sum()"
   ]
  },
  {
   "cell_type": "code",
   "execution_count": null,
   "metadata": {},
   "outputs": [],
   "source": [
    "# df.iloc[:,1:].describe(exclude=[\"object\"])"
   ]
  },
  {
   "cell_type": "code",
   "execution_count": null,
   "metadata": {},
   "outputs": [],
   "source": [
    "# # plot object columns ('country' and 'gender')\n",
    "# plt.figure(figsize=(13,7))\n",
    "# obj_cols = df.select_dtypes(\"object\").columns.to_list()\n",
    "# num_plt = 120\n",
    "\n",
    "# for col in obj_cols:\n",
    "#     df_ = df.groupby(col)[col].count().reset_index(name=\"count\")\n",
    "#     num_plt += 1\n",
    "\n",
    "#     plt.subplot(num_plt)\n",
    "#     plt.pie(df_[\"count\"], labels=df_[col], autopct=\"%0.1f %%\")\n",
    "#     plt.legend(title=col)\n",
    "# plt.show()"
   ]
  },
  {
   "cell_type": "code",
   "execution_count": null,
   "metadata": {},
   "outputs": [],
   "source": [
    "# # plot numeric columns (int and float data types)\n",
    "# plt.figure(figsize=(20,13))\n",
    "# num_cols = df._get_numeric_data().columns.to_list()[1:]\n",
    "# float_cols = df.select_dtypes(\"float64\").columns.to_list()\n",
    "# num_plt = 330\n",
    "\n",
    "# for col in num_cols:\n",
    "#     df_ = df.groupby(col)[col].count().reset_index(name=\"count\")\n",
    "#     num_plt += 1\n",
    "\n",
    "#     plt.subplot(num_plt)\n",
    "#     if col in float_cols:\n",
    "#         plt.hist(df_[col], bins=10, label=col)\n",
    "#         plt.legend()\n",
    "#     else:\n",
    "#         plt.bar(df_[col], df_[\"count\"])\n",
    "#         plt.xlabel(col)\n",
    "# plt.show()"
   ]
  },
  {
   "cell_type": "code",
   "execution_count": null,
   "metadata": {},
   "outputs": [],
   "source": [
    "# # relationship between 'products number' and 'customer churn'\n",
    "# plt.figure(figsize=(13,4))\n",
    "# sns.countplot(data=df, x=\"products_number\", hue=\"churn\")"
   ]
  },
  {
   "cell_type": "code",
   "execution_count": null,
   "metadata": {},
   "outputs": [],
   "source": [
    "# # plot the density of customers based on 'age customer'\n",
    "# plt.figure(figsize=(13,4))\n",
    "# sns.kdeplot(data=df, x=\"age\", hue=\"churn\", fill=True)"
   ]
  },
  {
   "cell_type": "code",
   "execution_count": null,
   "metadata": {},
   "outputs": [],
   "source": [
    "# # boxplot from 'gender' group by 'churn' for 'age customer'\n",
    "# plt.figure(figsize=(13,7))\n",
    "# sns.boxplot(data=df, x=\"gender\", y=\"age\", hue=\"churn\")"
   ]
  }
 ],
 "metadata": {
  "kernelspec": {
   "display_name": "venv",
   "language": "python",
   "name": "python3"
  },
  "language_info": {
   "codemirror_mode": {
    "name": "ipython",
    "version": 3
   },
   "file_extension": ".py",
   "mimetype": "text/x-python",
   "name": "python",
   "nbconvert_exporter": "python",
   "pygments_lexer": "ipython3",
   "version": "3.8.3"
  },
  "orig_nbformat": 4,
  "vscode": {
   "interpreter": {
    "hash": "bc9d588cc41055b9b9b216f0af018fd94a4e1c4903af48a4904579eb6a6c7cd2"
   }
  }
 },
 "nbformat": 4,
 "nbformat_minor": 2
}
